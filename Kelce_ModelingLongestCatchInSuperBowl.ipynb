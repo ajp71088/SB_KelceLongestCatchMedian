{
 "cells": [
  {
   "cell_type": "code",
   "execution_count": 1,
   "id": "1724ef71",
   "metadata": {},
   "outputs": [],
   "source": [
    "# Import dependencies\n",
    "import numpy as np\n",
    "%matplotlib inline\n",
    "import matplotlib.pyplot as plt\n",
    "import seaborn as sns\n",
    "import pandas as pd\n",
    "import bayesian_bootstrap.bootstrap as bb\n",
    "from scipy import stats\n",
    "from astropy.utils import NumpyRNGContext"
   ]
  },
  {
   "cell_type": "code",
   "execution_count": 2,
   "id": "6f314651",
   "metadata": {},
   "outputs": [],
   "source": [
    "# Styling plots\n",
    "sns.set(style='dark', palette='colorblind', font_scale=1.3,\n",
    "        rc={'figure.figsize':(12,9), \n",
    "            \"axes.facecolor\": (0, 0, 0, 0)})"
   ]
  },
  {
   "cell_type": "code",
   "execution_count": 3,
   "id": "d5b907ed",
   "metadata": {},
   "outputs": [
    {
     "data": {
      "text/html": [
       "<div>\n",
       "<style scoped>\n",
       "    .dataframe tbody tr th:only-of-type {\n",
       "        vertical-align: middle;\n",
       "    }\n",
       "\n",
       "    .dataframe tbody tr th {\n",
       "        vertical-align: top;\n",
       "    }\n",
       "\n",
       "    .dataframe thead th {\n",
       "        text-align: right;\n",
       "    }\n",
       "</style>\n",
       "<table border=\"1\" class=\"dataframe\">\n",
       "  <thead>\n",
       "    <tr style=\"text-align: right;\">\n",
       "      <th></th>\n",
       "      <th>Game</th>\n",
       "      <th>Game_Outcome</th>\n",
       "      <th>Targets</th>\n",
       "      <th>Receptions</th>\n",
       "      <th>Yards</th>\n",
       "      <th>RecTD</th>\n",
       "      <th>Long</th>\n",
       "    </tr>\n",
       "  </thead>\n",
       "  <tbody>\n",
       "    <tr>\n",
       "      <th>0</th>\n",
       "      <td>Game 103</td>\n",
       "      <td>CIN W</td>\n",
       "      <td>8</td>\n",
       "      <td>7</td>\n",
       "      <td>78</td>\n",
       "      <td>1</td>\n",
       "      <td>16</td>\n",
       "    </tr>\n",
       "    <tr>\n",
       "      <th>1</th>\n",
       "      <td>Game 102</td>\n",
       "      <td>JAX W</td>\n",
       "      <td>17</td>\n",
       "      <td>14</td>\n",
       "      <td>98</td>\n",
       "      <td>2</td>\n",
       "      <td>15</td>\n",
       "    </tr>\n",
       "    <tr>\n",
       "      <th>2</th>\n",
       "      <td>Game 101</td>\n",
       "      <td>@LV W</td>\n",
       "      <td>7</td>\n",
       "      <td>6</td>\n",
       "      <td>38</td>\n",
       "      <td>0</td>\n",
       "      <td>15</td>\n",
       "    </tr>\n",
       "    <tr>\n",
       "      <th>3</th>\n",
       "      <td>Game 100</td>\n",
       "      <td>DEN W</td>\n",
       "      <td>10</td>\n",
       "      <td>7</td>\n",
       "      <td>43</td>\n",
       "      <td>0</td>\n",
       "      <td>12</td>\n",
       "    </tr>\n",
       "    <tr>\n",
       "      <th>4</th>\n",
       "      <td>Game 99</td>\n",
       "      <td>SEA W</td>\n",
       "      <td>8</td>\n",
       "      <td>6</td>\n",
       "      <td>113</td>\n",
       "      <td>0</td>\n",
       "      <td>52</td>\n",
       "    </tr>\n",
       "    <tr>\n",
       "      <th>...</th>\n",
       "      <td>...</td>\n",
       "      <td>...</td>\n",
       "      <td>...</td>\n",
       "      <td>...</td>\n",
       "      <td>...</td>\n",
       "      <td>...</td>\n",
       "      <td>...</td>\n",
       "    </tr>\n",
       "    <tr>\n",
       "      <th>98</th>\n",
       "      <td>Game 5</td>\n",
       "      <td>@PIT W</td>\n",
       "      <td>10</td>\n",
       "      <td>7</td>\n",
       "      <td>109</td>\n",
       "      <td>2</td>\n",
       "      <td>31</td>\n",
       "    </tr>\n",
       "    <tr>\n",
       "      <th>99</th>\n",
       "      <td>Game 4</td>\n",
       "      <td>@LAC W</td>\n",
       "      <td>6</td>\n",
       "      <td>1</td>\n",
       "      <td>6</td>\n",
       "      <td>0</td>\n",
       "      <td>6</td>\n",
       "    </tr>\n",
       "    <tr>\n",
       "      <th>100</th>\n",
       "      <td>Game 3</td>\n",
       "      <td>@CHI L</td>\n",
       "      <td>2</td>\n",
       "      <td>2</td>\n",
       "      <td>29</td>\n",
       "      <td>0</td>\n",
       "      <td>26</td>\n",
       "    </tr>\n",
       "    <tr>\n",
       "      <th>101</th>\n",
       "      <td>Game 2</td>\n",
       "      <td>@ATL W</td>\n",
       "      <td>3</td>\n",
       "      <td>2</td>\n",
       "      <td>27</td>\n",
       "      <td>0</td>\n",
       "      <td>14</td>\n",
       "    </tr>\n",
       "    <tr>\n",
       "      <th>102</th>\n",
       "      <td>Game 1</td>\n",
       "      <td>HOU L</td>\n",
       "      <td>3</td>\n",
       "      <td>2</td>\n",
       "      <td>22</td>\n",
       "      <td>0</td>\n",
       "      <td>14</td>\n",
       "    </tr>\n",
       "  </tbody>\n",
       "</table>\n",
       "<p>103 rows × 7 columns</p>\n",
       "</div>"
      ],
      "text/plain": [
       "         Game Game_Outcome  Targets  Receptions  Yards  RecTD  Long\n",
       "0    Game 103        CIN W        8           7     78      1    16\n",
       "1    Game 102        JAX W       17          14     98      2    15\n",
       "2    Game 101        @LV W        7           6     38      0    15\n",
       "3    Game 100        DEN W       10           7     43      0    12\n",
       "4     Game 99        SEA W        8           6    113      0    52\n",
       "..        ...          ...      ...         ...    ...    ...   ...\n",
       "98     Game 5       @PIT W       10           7    109      2    31\n",
       "99     Game 4       @LAC W        6           1      6      0     6\n",
       "100    Game 3       @CHI L        2           2     29      0    26\n",
       "101    Game 2       @ATL W        3           2     27      0    14\n",
       "102    Game 1        HOU L        3           2     22      0    14\n",
       "\n",
       "[103 rows x 7 columns]"
      ]
     },
     "execution_count": 3,
     "metadata": {},
     "output_type": "execute_result"
    }
   ],
   "source": [
    "# Read in data which I already downloaded from FoxSports and semi-cleaned in Excel\n",
    "data_df = pd.read_excel('KelceMahomes.xlsx')\n",
    "data_df"
   ]
  },
  {
   "cell_type": "code",
   "execution_count": 5,
   "id": "9e5c9a05",
   "metadata": {},
   "outputs": [
    {
     "data": {
      "text/html": [
       "<div>\n",
       "<style scoped>\n",
       "    .dataframe tbody tr th:only-of-type {\n",
       "        vertical-align: middle;\n",
       "    }\n",
       "\n",
       "    .dataframe tbody tr th {\n",
       "        vertical-align: top;\n",
       "    }\n",
       "\n",
       "    .dataframe thead th {\n",
       "        text-align: right;\n",
       "    }\n",
       "</style>\n",
       "<table border=\"1\" class=\"dataframe\">\n",
       "  <thead>\n",
       "    <tr style=\"text-align: right;\">\n",
       "      <th></th>\n",
       "      <th>Game</th>\n",
       "      <th>Long</th>\n",
       "    </tr>\n",
       "  </thead>\n",
       "  <tbody>\n",
       "    <tr>\n",
       "      <th>0</th>\n",
       "      <td>Game 103</td>\n",
       "      <td>16</td>\n",
       "    </tr>\n",
       "    <tr>\n",
       "      <th>1</th>\n",
       "      <td>Game 102</td>\n",
       "      <td>15</td>\n",
       "    </tr>\n",
       "    <tr>\n",
       "      <th>2</th>\n",
       "      <td>Game 101</td>\n",
       "      <td>15</td>\n",
       "    </tr>\n",
       "    <tr>\n",
       "      <th>3</th>\n",
       "      <td>Game 100</td>\n",
       "      <td>12</td>\n",
       "    </tr>\n",
       "    <tr>\n",
       "      <th>4</th>\n",
       "      <td>Game 99</td>\n",
       "      <td>52</td>\n",
       "    </tr>\n",
       "    <tr>\n",
       "      <th>...</th>\n",
       "      <td>...</td>\n",
       "      <td>...</td>\n",
       "    </tr>\n",
       "    <tr>\n",
       "      <th>98</th>\n",
       "      <td>Game 5</td>\n",
       "      <td>31</td>\n",
       "    </tr>\n",
       "    <tr>\n",
       "      <th>99</th>\n",
       "      <td>Game 4</td>\n",
       "      <td>6</td>\n",
       "    </tr>\n",
       "    <tr>\n",
       "      <th>100</th>\n",
       "      <td>Game 3</td>\n",
       "      <td>26</td>\n",
       "    </tr>\n",
       "    <tr>\n",
       "      <th>101</th>\n",
       "      <td>Game 2</td>\n",
       "      <td>14</td>\n",
       "    </tr>\n",
       "    <tr>\n",
       "      <th>102</th>\n",
       "      <td>Game 1</td>\n",
       "      <td>14</td>\n",
       "    </tr>\n",
       "  </tbody>\n",
       "</table>\n",
       "<p>103 rows × 2 columns</p>\n",
       "</div>"
      ],
      "text/plain": [
       "         Game  Long\n",
       "0    Game 103    16\n",
       "1    Game 102    15\n",
       "2    Game 101    15\n",
       "3    Game 100    12\n",
       "4     Game 99    52\n",
       "..        ...   ...\n",
       "98     Game 5    31\n",
       "99     Game 4     6\n",
       "100    Game 3    26\n",
       "101    Game 2    14\n",
       "102    Game 1    14\n",
       "\n",
       "[103 rows x 2 columns]"
      ]
     },
     "execution_count": 5,
     "metadata": {},
     "output_type": "execute_result"
    }
   ],
   "source": [
    "# Drop unnecessary columns\n",
    "data_df = data_df.drop(columns=[\"Game_Outcome\",\"Targets\",\"Receptions\",\"Yards\",\"RecTD\"])\n",
    "\n",
    "data_df"
   ]
  },
  {
   "cell_type": "code",
   "execution_count": 9,
   "id": "254c27d6",
   "metadata": {},
   "outputs": [],
   "source": [
    "# Setting the seed\n",
    "with NumpyRNGContext(7):\n",
    "    kelce_bootstrap = bb.mean(data_df.Long, n_replications=10000)"
   ]
  },
  {
   "cell_type": "code",
   "execution_count": 10,
   "id": "57c4fc06",
   "metadata": {},
   "outputs": [
    {
     "data": {
      "text/plain": [
       "[24.39326795482142,\n",
       " 22.245536725115713,\n",
       " 24.62504596916196,\n",
       " 24.43611908102217,\n",
       " 24.587292506074704]"
      ]
     },
     "execution_count": 10,
     "metadata": {},
     "output_type": "execute_result"
    }
   ],
   "source": [
    "# Checking samples of the bootstrapped mean\n",
    "kelce_bootstrap[:5]"
   ]
  },
  {
   "cell_type": "code",
   "execution_count": 11,
   "id": "5b8b5711",
   "metadata": {},
   "outputs": [
    {
     "data": {
      "text/plain": [
       "10000"
      ]
     },
     "execution_count": 11,
     "metadata": {},
     "output_type": "execute_result"
    }
   ],
   "source": [
    "# Checking that sample length is 10000\n",
    "len(kelce_bootstrap)"
   ]
  },
  {
   "cell_type": "code",
   "execution_count": 17,
   "id": "6fbb60df",
   "metadata": {},
   "outputs": [
    {
     "name": "stderr",
     "output_type": "stream",
     "text": [
      "C:\\Users\\Alex\\anaconda3\\envs\\mlenv\\lib\\site-packages\\seaborn\\distributions.py:2619: FutureWarning: `distplot` is a deprecated function and will be removed in a future version. Please adapt your code to use either `displot` (a figure-level function with similar flexibility) or `histplot` (an axes-level function for histograms).\n",
      "  warnings.warn(msg, FutureWarning)\n"
     ]
    },
    {
     "data": {
      "image/png": "[encoded data removed]",
      "text/plain": [
       "<Figure size 864x648 with 1 Axes>"
      ]
     },
     "metadata": {},
     "output_type": "display_data"
    }
   ],
   "source": [
    "# Plotting the sample means\n",
    "\n",
    "ax = sns.distplot(kelce_bootstrap, color='crimson')\n",
    "ax.set(xlabel='Long', ylabel='Density', title='Travis Kelce Mean Long')\n",
    "sns.despine();"
   ]
  },
  {
   "cell_type": "code",
   "execution_count": 15,
   "id": "2e4e0558",
   "metadata": {},
   "outputs": [
    {
     "data": {
      "text/plain": [
       "23.789293171091586"
      ]
     },
     "execution_count": 15,
     "metadata": {},
     "output_type": "execute_result"
    }
   ],
   "source": [
    "# Finding the median of the bootstrapped samples\n",
    "\n",
    "np.median(kelce_bootstrap)"
   ]
  },
  {
   "cell_type": "code",
   "execution_count": 18,
   "id": "7c4f6414",
   "metadata": {},
   "outputs": [],
   "source": [
    "# Checking confidence interval of the median on the dataset to make sure the median of bootstrapped means isn't out of line\n",
    "from scipy.stats import bootstrap"
   ]
  },
  {
   "cell_type": "code",
   "execution_count": 19,
   "id": "807f5578",
   "metadata": {},
   "outputs": [],
   "source": [
    "data = (data_df.Long,)"
   ]
  },
  {
   "cell_type": "code",
   "execution_count": 20,
   "id": "112a12b2",
   "metadata": {},
   "outputs": [],
   "source": [
    "bootstrap_ci = bootstrap(data, np.median, confidence_level=0.95,\n",
    "                        random_state=1, method='percentile')"
   ]
  },
  {
   "cell_type": "code",
   "execution_count": 21,
   "id": "5522753c",
   "metadata": {},
   "outputs": [
    {
     "name": "stdout",
     "output_type": "stream",
     "text": [
      "ConfidenceInterval(low=19.0, high=25.0)\n"
     ]
    }
   ],
   "source": [
    "print(bootstrap_ci.confidence_interval)"
   ]
  }
 ],
 "metadata": {
  "kernelspec": {
   "display_name": "Python 3 (ipykernel)",
   "language": "python",
   "name": "python3"
  },
  "language_info": {
   "codemirror_mode": {
    "name": "ipython",
    "version": 3
   },
   "file_extension": ".py",
   "mimetype": "text/x-python",
   "name": "python",
   "nbconvert_exporter": "python",
   "pygments_lexer": "ipython3",
   "version": "3.7.13"
  }
 },
 "nbformat": 4,
 "nbformat_minor": 5
}
